{
 "cells": [
  {
   "cell_type": "markdown",
   "metadata": {
    "run_control": {
     "frozen": false,
     "read_only": false
    }
   },
   "source": [
    "# Глубокий кросс-энтропийный метод\n",
    "\n",
    "#### Дедлайн (жёсткий) задания: 17 марта, 23:59 UTC+3\n",
    "\n",
    "#### При сдаче задания нужно данный файл, файлы logger.py, model.py, agent_wrapper.py, а также папку с логами и папку с видео поместить в архив, сохраняя относительные пути, и послать архив в систему сдачи.\n",
    "\n",
    "### <span style=\"color: red\"> Если работа была списана и/или сделана LLM, то за работу ставится 0 баллов </span>. \n",
    "\n",
    "В данной работе будет рассмотрено обобщение кросс-энтропийного метода на случай параметризации агента с помощью нейросети. Перед вами будет поставлена задача обучить многослойную нейронную сеть для решения простых игр в непрерывных пространствах состояний."
   ]
  },
  {
   "cell_type": "markdown",
   "metadata": {},
   "source": [
    "# Работа выполнена: ФИО, номер группы."
   ]
  },
  {
   "cell_type": "code",
   "execution_count": 1,
   "metadata": {
    "ExecuteTime": {
     "end_time": "2024-03-11T11:32:04.035076Z",
     "start_time": "2024-03-11T11:32:02.640849Z"
    }
   },
   "outputs": [],
   "source": [
    "import gymnasium as gym\n",
    "import numpy as np\n",
    "from pathlib import Path\n",
    "import pickle as pkl\n",
    "import pandas as pd\n",
    "from time import time\n",
    "from IPython.display import clear_output\n",
    "from collections import deque\n",
    "from gymnasium.wrappers import RecordVideo\n",
    "from IPython.display import HTML\n",
    "import os\n",
    "import matplotlib.pyplot as plt\n",
    "%matplotlib inline\n",
    "import seaborn as sns\n",
    "sns.set(font_scale=1.)\n",
    "\n",
    "import torch\n",
    "import warnings\n",
    "import logger"
   ]
  },
  {
   "cell_type": "code",
   "execution_count": 2,
   "metadata": {},
   "outputs": [],
   "source": [
    "import importlib\n",
    "import model\n",
    "import agent_wrapper\n",
    "\n",
    "importlib.reload(model)\n",
    "importlib.reload(agent_wrapper)\n",
    "\n",
    "from model import MLPClassifireModel, MLPRegressorModel, MLPBaseModel\n",
    "from agent_wrapper import show_progress, GYMAgentWrapper"
   ]
  },
  {
   "cell_type": "code",
   "execution_count": 24,
   "metadata": {},
   "outputs": [],
   "source": [
    "# Для корректной работы ноутбука может понадобиться исполнение следующих команд:\n",
    "# (инструкция для UNIX-подобных систем):\n",
    "# !apt-get install -y xvfb x11-utils ffmpeg libav-tools python-opengl swig\n",
    "# !pip install --upgrade piglet pyvirtualdisplay joblib box2d-py gymnasium\n",
    "# (команда для MacOS системы):\n",
    "# !brew install XQuartz swig # для использования xvfb в MacOS сервере (не опробовано)"
   ]
  },
  {
   "cell_type": "markdown",
   "metadata": {},
   "source": [
    "Для визуализации среды на headless-сервере с UNIX-подобной ОС (например, Google Colab) раскомментируйте следующую ячейку:"
   ]
  },
  {
   "cell_type": "code",
   "execution_count": 17,
   "metadata": {},
   "outputs": [],
   "source": [
    "# from pyvirtualdisplay import Display # для визуализации на UNIX-подобном сервере\n",
    "\n",
    "\n",
    "# virtual_display = Display(visible=0, size=(1920, 1080))\n",
    "# virtual_display.start()"
   ]
  },
  {
   "cell_type": "markdown",
   "metadata": {},
   "source": [
    "Скрыть предупреждения: эстетическая опция, можно не выполнять ячейку ниже:"
   ]
  },
  {
   "cell_type": "code",
   "execution_count": 3,
   "metadata": {},
   "outputs": [],
   "source": [
    "warnings.filterwarnings(\"ignore\")"
   ]
  },
  {
   "cell_type": "markdown",
   "metadata": {},
   "source": [
    "Инициализация среды:"
   ]
  },
  {
   "cell_type": "code",
   "execution_count": 4,
   "metadata": {
    "ExecuteTime": {
     "end_time": "2024-03-10T10:06:00.741845Z",
     "start_time": "2024-03-10T10:05:59.507419Z"
    },
    "run_control": {
     "frozen": false,
     "read_only": false
    }
   },
   "outputs": [
    {
     "name": "stdout",
     "output_type": "stream",
     "text": [
      "размерность вектора состояний dim = 6\n",
      "размерность вектора действий dim = 3\n"
     ]
    },
    {
     "data": {
      "image/png": "[encoded data removed]",
      "text/plain": [
       "<Figure size 640x480 with 1 Axes>"
      ]
     },
     "metadata": {},
     "output_type": "display_data"
    }
   ],
   "source": [
    "# если есть вывод \"<classname> has no attribute .env\", удалите .env или обновите gym\n",
    "arcrobot_env = gym.make(\"Acrobot-v1\", render_mode=\"rgb_array\").env\n",
    "\n",
    "arcrobot_env.reset()\n",
    "n_actions = arcrobot_env.action_space.n\n",
    "state_dim = arcrobot_env.observation_space.shape[0]\n",
    "\n",
    "plt.imshow(arcrobot_env.render())\n",
    "print(\"размерность вектора состояний dim =\", state_dim)\n",
    "print(\"размерность вектора действий dim =\", n_actions)\n",
    "\n",
    "arcrobot_env.close()"
   ]
  },
  {
   "cell_type": "markdown",
   "metadata": {
    "run_control": {
     "frozen": false,
     "read_only": false
    }
   },
   "source": [
    "# Нейросетевая политика,  <span style=\"color: green\"> основная задача (10 баллов) </span>. \n",
    "\n",
    "Для текущей задачи будет использована написанная Вами нейросеть на подобие __[Scikit-learn MLPClassifier](https://scikit-learn.org/stable/modules/generated/sklearn.neural_network.MLPClassifier.html)__.\n",
    "\n",
    "\n",
    "Для решения задачи понадобится:\n",
    "* Реализовать недостающие строки в файле `model`, смотри строки `35` (метод `__init__` у класса `MLPBaseModel`), `249` (метод `partial_fit` у класса `MLPClassifireModel`)\n",
    "* Реализовать отрисовку средних наград и порогов наград на одном графике, распределение наград по значением и линия заданного перцентиля на другом графике. Смотри в файле `agent_wrapper`, строка `41` (функция show_progress).\n",
    "* Реализовать отбор лучших сессий и действий, для обучения на них модели. Смотри в файле `agent_wrapper`, строка `125` (staticmethod `select_best_session` у класса `GYMAgentWrapper`).\n",
    "\n",
    "Целью основной части работы является с помощью глубокого кросс-энтропийного метода обучить агента действовать в среде [Arcrobot-v1](https://gymnasium.farama.org/environments/classic_control/acrobot/). Хорошим результатом считается достижение награды -75 или выше.\n",
    "\n",
    "Архитектуру сети (количество слоев, количество нейронов в каждом слое, оптимизатор) можете выбрать по своему усмотрению."
   ]
  },
  {
   "cell_type": "markdown",
   "metadata": {},
   "source": [
    "### Шаги кросс-энтропийного метода\n",
    "Общая схема кросс-энтропийного метода (CEM) приведена на странице 35 (параграф 2.2.4.) учебного [пособия](https://arxiv.org/pdf/2201.09746.pdf).\n",
    "\n",
    "Глубокий CEM использует точно такую же стратегию, что и обычный CEM.\n",
    "\n",
    "Главное отличие состоит в том, что теперь каждое наблюдение не число, а `float32` вектор. Этот пример мы и будем рассматривать."
   ]
  },
  {
   "cell_type": "code",
   "execution_count": 50,
   "metadata": {},
   "outputs": [],
   "source": [
    "# инициализация агента и среды обучения\n",
    "\n",
    "arcrobot_env = gym.make(\"Acrobot-v1\", render_mode=\"rgb_array\").env\n",
    "model = MLPBaseModel(input_dim=6, output_dim=3, inner_dims=[32, 64, 32, 32], activation_func=torch.nn.Tanh())\n",
    "acrobot = GYMAgentWrapper(arcrobot_env, MLPClassifireModel(model, lr=1e-2), show_progress) # можно менять архитектуру нейронной сети и гиперпараметры обучения\n",
    "acrobot_logger = logger.get_logger('arcrobot_v_1', './logs')\n",
    "acrobot.set_sesion_params(max_step=1000, test=False, epsilon=1e-2)\n",
    "# acrobot.agent.set_normalization_params(acrobot.gym_env.observation_space)\n",
    "acrobot.set_train_agent_params(train_steps=25, session_quantity=100, percentile=85, goal_score=-75, history_length = 1, verbose=True) # можно менять гиперпраметры кросс-энтропийного метода, goal_score не трогать\n",
    "\n",
    "# пример инициализации агента и среды обучения с моделью не по умолчанию:\n",
    "# MLPBaseModel(input_dim=6, output_dim=3, inner_dims=[2,3,1,4], activation_func=torch.nn.Tanh())\n",
    "# arcrobot = GYMAgentWrapper(gym_env, MLPClassifireModel(base_model, torch.optim.SGD), show_progress)\n",
    "# также можно добавить нормализацию входных параметров с помощью arcrobot.agent.set_normalization_params(arcrobot.gym_env.observation_space)"
   ]
  },
  {
   "cell_type": "markdown",
   "metadata": {
    "run_control": {
     "frozen": false,
     "read_only": false
    }
   },
   "source": [
    "# Цикл обучения\n",
    "Генерация эпизодов, выбор пресентиля лучших и обучение на них."
   ]
  },
  {
   "cell_type": "code",
   "execution_count": 51,
   "metadata": {},
   "outputs": [
    {
     "data": {
      "image/png": "[encoded data removed]",
      "text/plain": [
       "<Figure size 1200x800 with 2 Axes>"
      ]
     },
     "metadata": {},
     "output_type": "display_data"
    },
    {
     "name": "stdout",
     "output_type": "stream",
     "text": [
      "средняя награда = -89.610, порог=-73.000\n"
     ]
    }
   ],
   "source": [
    "acrobot_result = acrobot.train_agent()\n",
    "\n",
    "logger.log_func(acrobot_logger, acrobot_result)\n"
   ]
  },
  {
   "cell_type": "code",
   "execution_count": 62,
   "metadata": {},
   "outputs": [],
   "source": [
    "acrobot.agent.set_learning_rate(3e-3)\n",
    "acrobot.set_sesion_params(test=False, epsilon=0)\n",
    "acrobot.set_train_agent_params(train_steps=150, session_quantity=10, percentile=70, goal_score=-75, history_length = 1, verbose=True)"
   ]
  },
  {
   "cell_type": "code",
   "execution_count": 63,
   "metadata": {},
   "outputs": [
    {
     "data": {
      "image/png": "[encoded data removed]",
      "text/plain": [
       "<Figure size 1200x800 with 2 Axes>"
      ]
     },
     "metadata": {},
     "output_type": "display_data"
    },
    {
     "name": "stdout",
     "output_type": "stream",
     "text": [
      "средняя награда = -71.800, порог=-66.000\n",
      "Вы выиграли! Можете прервать процедуру обучения с помощью сигнала KeyboardInterrupt.\n"
     ]
    }
   ],
   "source": [
    "acrobot_result = acrobot.train_agent()\n",
    "\n",
    "logger.log_func(acrobot_logger, acrobot_result)"
   ]
  },
  {
   "cell_type": "markdown",
   "metadata": {
    "run_control": {
     "frozen": false,
     "read_only": false
    }
   },
   "source": [
    "# Результаты"
   ]
  },
  {
   "cell_type": "code",
   "execution_count": null,
   "metadata": {},
   "outputs": [],
   "source": [
    "'''\n",
    "Если не работают ячейки ниже, то .record_wideo() надо зменить на\n",
    "\n",
    "with RecordVideo(\n",
    "    env=gym.make(\"env_name\", render_mode=\"rgb_array\"),\n",
    "    video_folder=folder_pth,\n",
    "    episode_trigger=lambda episode_number: True,\n",
    ") as env_monitor:\n",
    "    sessions = [agent_wrapper._generate_session(env_monitor, agent_wrapper.session_params) for _ in range(5)]\n",
    "\n",
    "'''"
   ]
  },
  {
   "cell_type": "markdown",
   "metadata": {},
   "source": [
    "Детерминированная политика:"
   ]
  },
  {
   "cell_type": "code",
   "execution_count": 64,
   "metadata": {},
   "outputs": [
    {
     "name": "stdout",
     "output_type": "stream",
     "text": [
      "Moviepy - Building video /home/semyon/ML/RL/CrossEntropyMethod/videos/Arcrobot_V_1/determ_poliсy/rl-video-episode-0.mp4.\n",
      "Moviepy - Writing video /home/semyon/ML/RL/CrossEntropyMethod/videos/Arcrobot_V_1/determ_poliсy/rl-video-episode-0.mp4\n",
      "\n"
     ]
    },
    {
     "name": "stderr",
     "output_type": "stream",
     "text": [
      "                                                             \r"
     ]
    },
    {
     "name": "stdout",
     "output_type": "stream",
     "text": [
      "Moviepy - Done !\n",
      "Moviepy - video ready /home/semyon/ML/RL/CrossEntropyMethod/videos/Arcrobot_V_1/determ_poliсy/rl-video-episode-0.mp4\n",
      "Moviepy - Building video /home/semyon/ML/RL/CrossEntropyMethod/videos/Arcrobot_V_1/determ_poliсy/rl-video-episode-1.mp4.\n",
      "Moviepy - Writing video /home/semyon/ML/RL/CrossEntropyMethod/videos/Arcrobot_V_1/determ_poliсy/rl-video-episode-1.mp4\n",
      "\n"
     ]
    },
    {
     "name": "stderr",
     "output_type": "stream",
     "text": [
      "                                                             \r"
     ]
    },
    {
     "name": "stdout",
     "output_type": "stream",
     "text": [
      "Moviepy - Done !\n",
      "Moviepy - video ready /home/semyon/ML/RL/CrossEntropyMethod/videos/Arcrobot_V_1/determ_poliсy/rl-video-episode-1.mp4\n",
      "Moviepy - Building video /home/semyon/ML/RL/CrossEntropyMethod/videos/Arcrobot_V_1/determ_poliсy/rl-video-episode-2.mp4.\n",
      "Moviepy - Writing video /home/semyon/ML/RL/CrossEntropyMethod/videos/Arcrobot_V_1/determ_poliсy/rl-video-episode-2.mp4\n",
      "\n"
     ]
    },
    {
     "name": "stderr",
     "output_type": "stream",
     "text": [
      "                                                              \r"
     ]
    },
    {
     "name": "stdout",
     "output_type": "stream",
     "text": [
      "Moviepy - Done !\n",
      "Moviepy - video ready /home/semyon/ML/RL/CrossEntropyMethod/videos/Arcrobot_V_1/determ_poliсy/rl-video-episode-2.mp4\n",
      "Moviepy - Building video /home/semyon/ML/RL/CrossEntropyMethod/videos/Arcrobot_V_1/determ_poliсy/rl-video-episode-3.mp4.\n",
      "Moviepy - Writing video /home/semyon/ML/RL/CrossEntropyMethod/videos/Arcrobot_V_1/determ_poliсy/rl-video-episode-3.mp4\n",
      "\n"
     ]
    },
    {
     "name": "stderr",
     "output_type": "stream",
     "text": [
      "                                                             \r"
     ]
    },
    {
     "name": "stdout",
     "output_type": "stream",
     "text": [
      "Moviepy - Done !\n",
      "Moviepy - video ready /home/semyon/ML/RL/CrossEntropyMethod/videos/Arcrobot_V_1/determ_poliсy/rl-video-episode-3.mp4\n",
      "Moviepy - Building video /home/semyon/ML/RL/CrossEntropyMethod/videos/Arcrobot_V_1/determ_poliсy/rl-video-episode-4.mp4.\n",
      "Moviepy - Writing video /home/semyon/ML/RL/CrossEntropyMethod/videos/Arcrobot_V_1/determ_poliсy/rl-video-episode-4.mp4\n",
      "\n"
     ]
    },
    {
     "name": "stderr",
     "output_type": "stream",
     "text": [
      "                                                               \r"
     ]
    },
    {
     "name": "stdout",
     "output_type": "stream",
     "text": [
      "Moviepy - Done !\n",
      "Moviepy - video ready /home/semyon/ML/RL/CrossEntropyMethod/videos/Arcrobot_V_1/determ_poliсy/rl-video-episode-4.mp4\n",
      "Moviepy - Building video /home/semyon/ML/RL/CrossEntropyMethod/videos/Arcrobot_V_1/determ_poliсy/rl-video-episode-5.mp4.\n",
      "Moviepy - Writing video /home/semyon/ML/RL/CrossEntropyMethod/videos/Arcrobot_V_1/determ_poliсy/rl-video-episode-5.mp4\n",
      "\n"
     ]
    },
    {
     "name": "stderr",
     "output_type": "stream",
     "text": [
      "                                                             \r"
     ]
    },
    {
     "name": "stdout",
     "output_type": "stream",
     "text": [
      "Moviepy - Done !\n",
      "Moviepy - video ready /home/semyon/ML/RL/CrossEntropyMethod/videos/Arcrobot_V_1/determ_poliсy/rl-video-episode-5.mp4\n",
      "Moviepy - Building video /home/semyon/ML/RL/CrossEntropyMethod/videos/Arcrobot_V_1/determ_poliсy/rl-video-episode-6.mp4.\n",
      "Moviepy - Writing video /home/semyon/ML/RL/CrossEntropyMethod/videos/Arcrobot_V_1/determ_poliсy/rl-video-episode-6.mp4\n",
      "\n"
     ]
    },
    {
     "name": "stderr",
     "output_type": "stream",
     "text": [
      "                                                               \r"
     ]
    },
    {
     "name": "stdout",
     "output_type": "stream",
     "text": [
      "Moviepy - Done !\n",
      "Moviepy - video ready /home/semyon/ML/RL/CrossEntropyMethod/videos/Arcrobot_V_1/determ_poliсy/rl-video-episode-6.mp4\n",
      "Moviepy - Building video /home/semyon/ML/RL/CrossEntropyMethod/videos/Arcrobot_V_1/determ_poliсy/rl-video-episode-7.mp4.\n",
      "Moviepy - Writing video /home/semyon/ML/RL/CrossEntropyMethod/videos/Arcrobot_V_1/determ_poliсy/rl-video-episode-7.mp4\n",
      "\n"
     ]
    },
    {
     "name": "stderr",
     "output_type": "stream",
     "text": [
      "                                                             \r"
     ]
    },
    {
     "name": "stdout",
     "output_type": "stream",
     "text": [
      "Moviepy - Done !\n",
      "Moviepy - video ready /home/semyon/ML/RL/CrossEntropyMethod/videos/Arcrobot_V_1/determ_poliсy/rl-video-episode-7.mp4\n",
      "Moviepy - Building video /home/semyon/ML/RL/CrossEntropyMethod/videos/Arcrobot_V_1/determ_poliсy/rl-video-episode-8.mp4.\n",
      "Moviepy - Writing video /home/semyon/ML/RL/CrossEntropyMethod/videos/Arcrobot_V_1/determ_poliсy/rl-video-episode-8.mp4\n",
      "\n"
     ]
    },
    {
     "name": "stderr",
     "output_type": "stream",
     "text": [
      "                                                             \r"
     ]
    },
    {
     "name": "stdout",
     "output_type": "stream",
     "text": [
      "Moviepy - Done !\n",
      "Moviepy - video ready /home/semyon/ML/RL/CrossEntropyMethod/videos/Arcrobot_V_1/determ_poliсy/rl-video-episode-8.mp4\n",
      "Moviepy - Building video /home/semyon/ML/RL/CrossEntropyMethod/videos/Arcrobot_V_1/determ_poliсy/rl-video-episode-9.mp4.\n",
      "Moviepy - Writing video /home/semyon/ML/RL/CrossEntropyMethod/videos/Arcrobot_V_1/determ_poliсy/rl-video-episode-9.mp4\n",
      "\n"
     ]
    },
    {
     "name": "stderr",
     "output_type": "stream",
     "text": [
      "                                                             "
     ]
    },
    {
     "name": "stdout",
     "output_type": "stream",
     "text": [
      "Moviepy - Done !\n",
      "Moviepy - video ready /home/semyon/ML/RL/CrossEntropyMethod/videos/Arcrobot_V_1/determ_poliсy/rl-video-episode-9.mp4\n"
     ]
    },
    {
     "name": "stderr",
     "output_type": "stream",
     "text": [
      "\r"
     ]
    },
    {
     "data": {
      "text/html": [
       "\n",
       "<video width=\"640\" height=\"480\" controls>\n",
       "  <source src=\"videos/Arcrobot_V_1/determ_poliсy/rl-video-episode-9.mp4\" type=\"video/mp4\">\n",
       "</video>\n"
      ],
      "text/plain": [
       "<IPython.core.display.HTML object>"
      ]
     },
     "execution_count": 64,
     "metadata": {},
     "output_type": "execute_result"
    }
   ],
   "source": [
    "# сохранение видео\n",
    "folder_pth = Path(\"./videos/Arcrobot_V_1/determ_poliсy\")\n",
    "acrobot.set_sesion_params(test=True)\n",
    "acrobot.record_wideo(folder_pth, 10)\n",
    "\n",
    "# демонстрация видео\n",
    "video_paths = sorted([s for s in folder_pth.iterdir() if s.suffix == \".mp4\"])\n",
    "video_path = video_paths[-1]\n",
    "data_url = str(video_path)\n",
    "\n",
    "HTML(\n",
    "    \"\"\"\n",
    "<video width=\"640\" height=\"480\" controls>\n",
    "  <source src=\"{}\" type=\"video/mp4\">\n",
    "</video>\n",
    "\"\"\".format(\n",
    "        data_url\n",
    "    )\n",
    ")"
   ]
  },
  {
   "cell_type": "markdown",
   "metadata": {},
   "source": [
    "Стохастическая политика:"
   ]
  },
  {
   "cell_type": "code",
   "execution_count": 65,
   "metadata": {},
   "outputs": [
    {
     "name": "stdout",
     "output_type": "stream",
     "text": [
      "Moviepy - Building video /home/semyon/ML/RL/CrossEntropyMethod/videos/Arcrobot_V_1/stoch_poliсy/rl-video-episode-0.mp4.\n",
      "Moviepy - Writing video /home/semyon/ML/RL/CrossEntropyMethod/videos/Arcrobot_V_1/stoch_poliсy/rl-video-episode-0.mp4\n",
      "\n"
     ]
    },
    {
     "name": "stderr",
     "output_type": "stream",
     "text": [
      "                                                             "
     ]
    },
    {
     "name": "stdout",
     "output_type": "stream",
     "text": [
      "Moviepy - Done !\n",
      "Moviepy - video ready /home/semyon/ML/RL/CrossEntropyMethod/videos/Arcrobot_V_1/stoch_poliсy/rl-video-episode-0.mp4\n"
     ]
    },
    {
     "name": "stderr",
     "output_type": "stream",
     "text": [
      "\r"
     ]
    },
    {
     "name": "stdout",
     "output_type": "stream",
     "text": [
      "Moviepy - Building video /home/semyon/ML/RL/CrossEntropyMethod/videos/Arcrobot_V_1/stoch_poliсy/rl-video-episode-1.mp4.\n",
      "Moviepy - Writing video /home/semyon/ML/RL/CrossEntropyMethod/videos/Arcrobot_V_1/stoch_poliсy/rl-video-episode-1.mp4\n",
      "\n"
     ]
    },
    {
     "name": "stderr",
     "output_type": "stream",
     "text": [
      "                                                             \r"
     ]
    },
    {
     "name": "stdout",
     "output_type": "stream",
     "text": [
      "Moviepy - Done !\n",
      "Moviepy - video ready /home/semyon/ML/RL/CrossEntropyMethod/videos/Arcrobot_V_1/stoch_poliсy/rl-video-episode-1.mp4\n",
      "Moviepy - Building video /home/semyon/ML/RL/CrossEntropyMethod/videos/Arcrobot_V_1/stoch_poliсy/rl-video-episode-2.mp4.\n",
      "Moviepy - Writing video /home/semyon/ML/RL/CrossEntropyMethod/videos/Arcrobot_V_1/stoch_poliсy/rl-video-episode-2.mp4\n",
      "\n"
     ]
    },
    {
     "name": "stderr",
     "output_type": "stream",
     "text": [
      "                                                               \r"
     ]
    },
    {
     "name": "stdout",
     "output_type": "stream",
     "text": [
      "Moviepy - Done !\n",
      "Moviepy - video ready /home/semyon/ML/RL/CrossEntropyMethod/videos/Arcrobot_V_1/stoch_poliсy/rl-video-episode-2.mp4\n",
      "Moviepy - Building video /home/semyon/ML/RL/CrossEntropyMethod/videos/Arcrobot_V_1/stoch_poliсy/rl-video-episode-3.mp4.\n",
      "Moviepy - Writing video /home/semyon/ML/RL/CrossEntropyMethod/videos/Arcrobot_V_1/stoch_poliсy/rl-video-episode-3.mp4\n",
      "\n"
     ]
    },
    {
     "name": "stderr",
     "output_type": "stream",
     "text": [
      "                                                             \r"
     ]
    },
    {
     "name": "stdout",
     "output_type": "stream",
     "text": [
      "Moviepy - Done !\n",
      "Moviepy - video ready /home/semyon/ML/RL/CrossEntropyMethod/videos/Arcrobot_V_1/stoch_poliсy/rl-video-episode-3.mp4\n",
      "Moviepy - Building video /home/semyon/ML/RL/CrossEntropyMethod/videos/Arcrobot_V_1/stoch_poliсy/rl-video-episode-4.mp4.\n",
      "Moviepy - Writing video /home/semyon/ML/RL/CrossEntropyMethod/videos/Arcrobot_V_1/stoch_poliсy/rl-video-episode-4.mp4\n",
      "\n"
     ]
    },
    {
     "name": "stderr",
     "output_type": "stream",
     "text": [
      "                                                             \r"
     ]
    },
    {
     "name": "stdout",
     "output_type": "stream",
     "text": [
      "Moviepy - Done !\n",
      "Moviepy - video ready /home/semyon/ML/RL/CrossEntropyMethod/videos/Arcrobot_V_1/stoch_poliсy/rl-video-episode-4.mp4\n",
      "Moviepy - Building video /home/semyon/ML/RL/CrossEntropyMethod/videos/Arcrobot_V_1/stoch_poliсy/rl-video-episode-5.mp4.\n",
      "Moviepy - Writing video /home/semyon/ML/RL/CrossEntropyMethod/videos/Arcrobot_V_1/stoch_poliсy/rl-video-episode-5.mp4\n",
      "\n"
     ]
    },
    {
     "name": "stderr",
     "output_type": "stream",
     "text": [
      "                                                             \r"
     ]
    },
    {
     "name": "stdout",
     "output_type": "stream",
     "text": [
      "Moviepy - Done !\n",
      "Moviepy - video ready /home/semyon/ML/RL/CrossEntropyMethod/videos/Arcrobot_V_1/stoch_poliсy/rl-video-episode-5.mp4\n",
      "Moviepy - Building video /home/semyon/ML/RL/CrossEntropyMethod/videos/Arcrobot_V_1/stoch_poliсy/rl-video-episode-6.mp4.\n",
      "Moviepy - Writing video /home/semyon/ML/RL/CrossEntropyMethod/videos/Arcrobot_V_1/stoch_poliсy/rl-video-episode-6.mp4\n",
      "\n"
     ]
    },
    {
     "name": "stderr",
     "output_type": "stream",
     "text": [
      "                                                             \r"
     ]
    },
    {
     "name": "stdout",
     "output_type": "stream",
     "text": [
      "Moviepy - Done !\n",
      "Moviepy - video ready /home/semyon/ML/RL/CrossEntropyMethod/videos/Arcrobot_V_1/stoch_poliсy/rl-video-episode-6.mp4\n",
      "Moviepy - Building video /home/semyon/ML/RL/CrossEntropyMethod/videos/Arcrobot_V_1/stoch_poliсy/rl-video-episode-7.mp4.\n",
      "Moviepy - Writing video /home/semyon/ML/RL/CrossEntropyMethod/videos/Arcrobot_V_1/stoch_poliсy/rl-video-episode-7.mp4\n",
      "\n"
     ]
    },
    {
     "name": "stderr",
     "output_type": "stream",
     "text": [
      "                                                               \r"
     ]
    },
    {
     "name": "stdout",
     "output_type": "stream",
     "text": [
      "Moviepy - Done !\n",
      "Moviepy - video ready /home/semyon/ML/RL/CrossEntropyMethod/videos/Arcrobot_V_1/stoch_poliсy/rl-video-episode-7.mp4\n",
      "Moviepy - Building video /home/semyon/ML/RL/CrossEntropyMethod/videos/Arcrobot_V_1/stoch_poliсy/rl-video-episode-8.mp4.\n",
      "Moviepy - Writing video /home/semyon/ML/RL/CrossEntropyMethod/videos/Arcrobot_V_1/stoch_poliсy/rl-video-episode-8.mp4\n",
      "\n"
     ]
    },
    {
     "name": "stderr",
     "output_type": "stream",
     "text": [
      "                                                             \r"
     ]
    },
    {
     "name": "stdout",
     "output_type": "stream",
     "text": [
      "Moviepy - Done !\n",
      "Moviepy - video ready /home/semyon/ML/RL/CrossEntropyMethod/videos/Arcrobot_V_1/stoch_poliсy/rl-video-episode-8.mp4\n",
      "Moviepy - Building video /home/semyon/ML/RL/CrossEntropyMethod/videos/Arcrobot_V_1/stoch_poliсy/rl-video-episode-9.mp4.\n",
      "Moviepy - Writing video /home/semyon/ML/RL/CrossEntropyMethod/videos/Arcrobot_V_1/stoch_poliсy/rl-video-episode-9.mp4\n",
      "\n"
     ]
    },
    {
     "name": "stderr",
     "output_type": "stream",
     "text": [
      "                                                               "
     ]
    },
    {
     "name": "stdout",
     "output_type": "stream",
     "text": [
      "Moviepy - Done !\n",
      "Moviepy - video ready /home/semyon/ML/RL/CrossEntropyMethod/videos/Arcrobot_V_1/stoch_poliсy/rl-video-episode-9.mp4\n"
     ]
    },
    {
     "name": "stderr",
     "output_type": "stream",
     "text": [
      "\r"
     ]
    },
    {
     "data": {
      "text/html": [
       "\n",
       "<video width=\"640\" height=\"480\" controls>\n",
       "  <source src=\"videos/Arcrobot_V_1/stoch_poliсy/rl-video-episode-9.mp4\" type=\"video/mp4\">\n",
       "</video>\n"
      ],
      "text/plain": [
       "<IPython.core.display.HTML object>"
      ]
     },
     "execution_count": 65,
     "metadata": {},
     "output_type": "execute_result"
    }
   ],
   "source": [
    "# сохранение видео\n",
    "folder_pth = Path(\"./videos/Arcrobot_V_1/stoch_poliсy\")\n",
    "acrobot.set_sesion_params(test=False)\n",
    "acrobot.record_wideo(folder_pth, 10)\n",
    "\n",
    "# демонстрация видео\n",
    "video_paths = sorted([s for s in folder_pth.iterdir() if s.suffix == \".mp4\"])\n",
    "video_path = video_paths[-1]\n",
    "data_url = str(video_path)\n",
    "\n",
    "HTML(\n",
    "    \"\"\"\n",
    "<video width=\"640\" height=\"480\" controls>\n",
    "  <source src=\"{}\" type=\"video/mp4\">\n",
    "</video>\n",
    "\"\"\".format(\n",
    "        data_url\n",
    "    )\n",
    ")"
   ]
  },
  {
   "cell_type": "markdown",
   "metadata": {},
   "source": [
    "### Как думаете, какую политику (детерминированную или стохастическую) стоит выбирать с случае \n",
    "* обучения агента?\n",
    "* достижения лучшей награды?\n",
    "Свою точку зрения объясните."
   ]
  },
  {
   "cell_type": "markdown",
   "metadata": {},
   "source": [
    "На этапе обучения используем стохастическую политику, чтобы обеспечивать exploration.\n",
    "\n",
    "На инференсе обычно будет лучше работать детерминированная политика, т.к. мы будем выбирать самое эффективное действие в текущем состоянии (т.е. то, которое на этапе обучения приводило к наибольшей награде) "
   ]
  },
  {
   "cell_type": "markdown",
   "metadata": {
    "run_control": {
     "frozen": false,
     "read_only": false
    }
   },
   "source": [
    "# Дополнительные задание <span style=\"color: green\"> (Всего 10 баллов) </span>\n",
    "\n",
    "### Глубокий кросс-энтропийный метод\n",
    "\n",
    "На данный момент у Вас должна быть достаточно хорошая награда в [Acrobot-v1](https://gymnasium.farama.org/environments/classic_control/acrobot/), чтобы считать основное задание выполненным (см. ссылку). Время попробовать что-нибудь посложнее.\n",
    "\n",
    "### Задания\n",
    "\n",
    "* __2.1__ Выбрать следующие среды: [MountainCar-v0](https://gymnasium.farama.org/environments/classic_control/mountain_car/) и [LunarLander-v3](https://gymnasium.farama.org/environments/box2d/lunar_lander/). <span style=\"color: green\"> (Всего 2 балла, по 1 за каждую из сред) </span>\n",
    "  * Для MountainCar, получить среднее вознаграждение __как минимум -150__\n",
    "  * For LunarLander, получить среднее вознаграждение __как минимум +65__\n",
    "  * Записать видео для каждой из среды\n",
    "\n",
    "Рекомендуем обратить внимание на раздел с советами ниже, это важно.\n",
    "\n",
    "Для данной задачи нужно будет разобраться как использовать другую среду, возможно изменить модель, лосс и оптимизатор с шагом.\n",
    "\n",
    "* __2.2__ Изучить зависимость скорости обучения агента от гиперпараметров алгоритма в среде [MountainCar-v0](https://gymnasium.farama.org/environments/classic_control/mountain_car/). Постараться продемонстрировать возможность ускорения обучения хотя бы в два раза при грамотном подборе гиперпараметров. <span style=\"color: green\"> (Всего 3 балла, по 1 за пункт) </span>\n",
    "  * Очевидное улучшение: использовать [joblib](https://joblib.readthedocs.io/en/stable/) или multiprocessing (смотри `parallel` и `n_workers` поля класса `train_agent_params` в файле `agent_wrapper`)\n",
    "  * Попробовать переиспользовать сэмплы из 3-5 последних итераций при вычислении порога и при обучении (смотри `history_length` поле в файле `agent_wrapper`)\n",
    "  * Поэкспериментировать с количеством итераций обучения и шагом метода обучения (learning rate) нейронной сети \n",
    "\n",
    "Для решения этого пункта нужно будет реализовать код в файле `agent_wrapper` на строке `343` (метод `train_agent` класса `GYMAgentWrapper`).\n",
    "\n",
    "* __2.3__ Обучить агента в среде с непрерывным пространством действий с помощью `MLPRegressor` на подобие ([ссылка](https://scikit-learn.org/stable/modules/generated/sklearn.neural_network.MLPRegressor.html#sklearn.neural_network.MLPRegressor)). <span style=\"color: green\"> (Всего 5 баллов, по 1.5 за каждую из сред, 0.5 за реализацию кода) </span>\n",
    "  * Начните с [Pendulum-v1](https://gymnasium.farama.org/environments/classic_control/pendulum/), попробуйте получить среднее вознаграждение **как минимум -300**.\n",
    "  * Поскольку Ваш агент оценивает \"среднее\" действие, полезно добавить небольшой шум для исследования среды.\n",
    "  * Обучить агента в [MountainCarContinuous-v0](https://gymnasium.farama.org/environments/classic_control/mountain_car_continuous/) и в [LunarLanderContinuous-v3](https://gymnasium.farama.org/environments/box2d/lunar_lander/). За достижение награды ниже порогового значения будет начислено меньше баллов. Помните, что дискретные и непрерывные среды могут отличаться не только в пространстве действий. Требования на среднее вознаграждение: **MountainCarContinuous +70** и **LunarLanderContinuous +100**.\n",
    "\n",
    "Для решения этого пункта нужно будет реализовать код в файле `model` на строке `182` (метод `partial_fit` класса `MLPRegressorModel`). Это не должно вызвать у вас проблем, после написания подобного кода для задачи классификации.\n",
    "\n",
    "* __При сдаче задания требуется перечислить в данном файле, что было сделано и чего добились__\n",
    "  \n",
    "### Советы\n",
    "* Страница Gymnasium: [MountainCar](https://gymnasium.farama.org/environments/classic_control/mountain_car/), [MountainCarContinuous](https://gymnasium.farama.org/environments/classic_control/mountain_car_continuous/), [LunarLander](https://gymnasium.farama.org/environments/box2d/lunar_lander/).\n",
    "* Эпизоды в MountainCar могут длиться более 10k+ шагов. Убедитесь, что параметр `max_step` в `set_sesion_params` не меньше 10k.\n",
    " * Также может быть хорошей идеей строго отбирать награды через \">\", а не \">=\" (strictly_select_elites). Если 90% Ваших эпизодов имеют награду -10k и 20% лучше, тода если Вы используйте перцентиль 20% как порог, R >= порог __не может отклонить неуспешные эпизоды__, в то время как R > справляется с этим корректно.\n",
    "* _проблема сред gymnasium_: некоторые версии gymnasium ограничивают эпизод 200 шагами. Это ограничивает возможности CEM в обучении в большинстве случаев. Убедитесь, что Ваш агент способен симулировать эпизоды с заданным __t_max__, и если нет, то попробуйте `env = gym.make(\"MountainCar-v0\").env` или в ином случае избавьтесь от TimeLimit wrapper.\n",
    "* Если Вы пользуетесь старой _swig_ библиотекой для LunarLander-v3, у Вас может возникнуть ошибка. Детали по [ссылке](https://github.com/openai/gym/issues/100) с решением проблемы.\n",
    "* Если CEM не будет обучаться, то построение диаграмм распределения награды и запись видео эпизодов могут помочь: они Вас могут натолкнуть на идею исправления.\n",
    "* 20-нейронной сети может не хватить, не стесняйтесь экспериментировать.\n",
    "\n",
    "Ячейка с кодом ниже может оказаться полезной:"
   ]
  },
  {
   "cell_type": "markdown",
   "metadata": {},
   "source": [
    "### <span style=\"color: green\"> Дополнительное задание 2.1 (2 балла, по 1 за каждую из сред) </span>\n",
    "Требуется: \n",
    "\n",
    "Выбрать следующие среды: [MountainCar-v0](https://gymnasium.farama.org/environments/classic_control/mountain_car/) и [LunarLander-v3](https://gymnasium.farama.org/environments/box2d/lunar_lander/).\n",
    "  * Для MountainCar, получить среднее вознаграждение __как минимум -150__\n",
    "  * For LunarLander, получить среднее вознаграждение __как минимум +50__\n",
    "  * Записать видео для каждой из сред\n",
    "\n",
    "Рекомендуем обратить внимание на раздел с советами ниже, это важно.\n",
    "\n",
    "Для данной задачи нужно будет разобраться как использовать другую среду, возможно изменить модель, лосс и оптимизатор с шагом.\n",
    "\n",
    "### Обучение в MountainCar-v0"
   ]
  },
  {
   "cell_type": "code",
   "execution_count": null,
   "metadata": {},
   "outputs": [],
   "source": [
    "# инициализация агента и среды обучения\n",
    "mountin_car_env = gym.make(\"MountainCar-v0\", render_mode=\"rgb_array\").env\n",
    "n_actions = mountin_car_env.action_space.n\n",
    "state_dim = mountin_car_env.observation_space.shape[0]\n",
    "\n",
    "mountin_car = GYMAgentWrapper(mountin_car_env, MLPClassifireModel(model=MLPBaseModel(input_dim=int(state_dim), output_dim=int(n_actions), inner_dims=[4, 8, 24, 6])), show_progress) # можно менять архитектуру нейронной сети и гиперпараметры обучения\n",
    "mountin_car_logger = logger.get_logger('mountaincar-v0', './logs')\n",
    "mountin_car.set_sesion_params(max_step=15000, test=False, epsilon=0)\n",
    "mountin_car.set_train_agent_params(train_steps=100, session_quantity=100, percentile=90, goal_score=-150, history_length = 1, verbose=True, strict=True) # можно менять гиперпраметры кросс-энтропийного метода, goal_score не трогать\n",
    "\n",
    "mountin_car_result = mountin_car.train_agent()\n",
    "\n",
    "logger.log_func(mountin_car_logger, mountin_car_result)"
   ]
  },
  {
   "cell_type": "code",
   "execution_count": null,
   "metadata": {},
   "outputs": [],
   "source": [
    "# детерминированная политика\n",
    "# сохранение видео\n",
    "folder_pth = Path(\"./videos/MountainCar-v0/determ_poliсy\")\n",
    "mountin_car.set_sesion_params(test=True)\n",
    "mountin_car.record_wideo(folder_pth, 10)\n",
    "\n",
    "# демонстрация видео\n",
    "video_paths = sorted([s for s in folder_pth.iterdir() if s.suffix == \".mp4\"])\n",
    "video_path = video_paths[-1]\n",
    "data_url = str(video_path)\n",
    "\n",
    "HTML(\n",
    "    \"\"\"\n",
    "<video width=\"640\" height=\"480\" controls>\n",
    "  <source src=\"{}\" type=\"video/mp4\">\n",
    "</video>\n",
    "\"\"\".format(\n",
    "        data_url\n",
    "    )\n",
    ")"
   ]
  },
  {
   "cell_type": "code",
   "execution_count": null,
   "metadata": {},
   "outputs": [],
   "source": [
    "# стохастическая политика\n",
    "# сохранение видео\n",
    "folder_pth = Path(\"./videos/MountainCar-v0/stoch_poliсy\")\n",
    "mountin_car.set_sesion_params(test=False)\n",
    "mountin_car.record_wideo(folder_pth, 10)\n",
    "\n",
    "# демонстрация видео\n",
    "video_paths = sorted([s for s in folder_pth.iterdir() if s.suffix == \".mp4\"])\n",
    "video_path = video_paths[-1]\n",
    "data_url = str(video_path)\n",
    "\n",
    "HTML(\n",
    "    \"\"\"\n",
    "<video width=\"640\" height=\"480\" controls>\n",
    "  <source src=\"{}\" type=\"video/mp4\">\n",
    "</video>\n",
    "\"\"\".format(\n",
    "        data_url\n",
    "    )\n",
    ")"
   ]
  },
  {
   "cell_type": "markdown",
   "metadata": {},
   "source": [
    "### Обучение в LunarLander-v3"
   ]
  },
  {
   "cell_type": "code",
   "execution_count": null,
   "metadata": {},
   "outputs": [],
   "source": [
    "# инициализация агента и среды обучения\n",
    "lunarlander_env = gym.make(\"LunarLander-v3\", render_mode=\"rgb_array\").env\n",
    "n_actions = lunarlander_env.action_space.n\n",
    "state_dim = lunarlander_env.observation_space.shape[0]\n",
    "\n",
    "lunarlander = GYMAgentWrapper(lunarlander_env, MLPClassifireModel(model=MLPBaseModel(input_dim=state_dim, output_dim=n_actions)), show_progress) # можно менять архитектуру нейронной сети и гиперпараметры обучения\n",
    "lunarlander_logger = logger.get_logger('lunarlander-v3', './logs')\n",
    "lunarlander.set_sesion_params(max_step=1000, test=False, epsilon=0)\n",
    "lunarlander.set_train_agent_params(train_steps=150, session_quantity=100, percentile=90, goal_score=50, history_length = 1, verbose=True, strict=False) # можно менять гиперпраметры кросс-энтропийного метода, goal_score не трогать\n",
    "\n",
    "lunarlander_result = lunarlander.train_agent()\n",
    "\n",
    "logger.log_func(lunarlander_logger, lunarlander_result)"
   ]
  },
  {
   "cell_type": "code",
   "execution_count": null,
   "metadata": {},
   "outputs": [],
   "source": [
    "# детерминированная политика\n",
    "# сохранение видео\n",
    "folder_pth = Path(\"./videos/LunarLander-v3/determ_poliсy\")\n",
    "mountin_car.set_sesion_params(test=True)\n",
    "mountin_car.record_wideo(folder_pth, 10)\n",
    "\n",
    "# демонстрация видео\n",
    "video_paths = sorted([s for s in folder_pth.iterdir() if s.suffix == \".mp4\"])\n",
    "video_path = video_paths[-1]\n",
    "data_url = str(video_path)\n",
    "\n",
    "HTML(\n",
    "    \"\"\"\n",
    "<video width=\"640\" height=\"480\" controls>\n",
    "  <source src=\"{}\" type=\"video/mp4\">\n",
    "</video>\n",
    "\"\"\".format(\n",
    "        data_url\n",
    "    )\n",
    ")"
   ]
  },
  {
   "cell_type": "code",
   "execution_count": null,
   "metadata": {},
   "outputs": [],
   "source": [
    "# стохастическая политика\n",
    "# сохранение видео\n",
    "folder_pth = Path(\"./videos/LunarLander-v3/stoch_poliсy\")\n",
    "mountin_car.set_sesion_params(test=False)\n",
    "mountin_car.record_wideo(folder_pth, 10)\n",
    "\n",
    "# демонстрация видео\n",
    "video_paths = sorted([s for s in folder_pth.iterdir() if s.suffix == \".mp4\"])\n",
    "video_path = video_paths[-1]\n",
    "data_url = str(video_path)\n",
    "\n",
    "HTML(\n",
    "    \"\"\"\n",
    "<video width=\"640\" height=\"480\" controls>\n",
    "  <source src=\"{}\" type=\"video/mp4\">\n",
    "</video>\n",
    "\"\"\".format(\n",
    "        data_url\n",
    "    )\n",
    ")"
   ]
  },
  {
   "cell_type": "markdown",
   "metadata": {},
   "source": [
    "### <span style=\"color: green\"> Дополнительное задание 2.2  (Всего 3 балла, по 1 за пункт) </span>\n",
    "Требуется:\n",
    "\n",
    "Изучить зависимость скорости обучения агента от гиперпараметров алгоритма в среде [MountainCar-v0](https://gymnasium.farama.org/environments/classic_control/mountain_car/). Постараться продемонстрировать возможность ускорения обучения хотя бы в два раза при грамотном подборе гиперпараметров. \n",
    "  * Очевидное улучшение: использовать [joblib](https://joblib.readthedocs.io/en/stable/) или multiprocessing (смотри `parallel` и `n_workers` поля класса `train_agent_params` в файле `agent_wrapper`)\n",
    "  * Попробовать переиспользовать сэмплы из 3-5 последних итераций при вычислении порога и при обучении (смотри `history_length` поле в файле `agent_wrapper`)\n",
    "  * Поэкспериментировать с количеством итераций обучения и шагом метода обучения (learning rate) нейронной сети \n",
    "\n",
    "Для решения этого пункта нужно будет реализовать код в файле `agent_wrapper` на строке `343` (метод `train_agent` класса `GYMAgentWrapper`).\n",
    "\n",
    "Сейчас будем много кода, но не стоит пугаться, это все для упрощения Вашей жизни."
   ]
  },
  {
   "cell_type": "markdown",
   "metadata": {},
   "source": [
    "Функция для постановки экспериментов, зависящих от набора гиперпараметров:"
   ]
  },
  {
   "cell_type": "code",
   "execution_count": null,
   "metadata": {},
   "outputs": [],
   "source": [
    "example_wrapper = GYMAgentWrapper(your_params) # можно менять архитектуру нейронной сети и гиперпараметры обучения\n",
    "def training_experiment(n_jobs_list, history_length_list, learning_rate_init_list, n_train_steps_list,\n",
    "                        n_samples=5, name='MountainCar-v0', n_game_steps=10000, n_sessions=100, percentile=70,\n",
    "                        goal_score=-150, **params):\n",
    "    experiment_data = []\n",
    "    \n",
    "    for n_jobs in n_jobs_list:\n",
    "        for history_length in history_length_list:\n",
    "            for learning_rate_init in learning_rate_init_list:\n",
    "                params['learning_rate_init'] = learning_rate_init\n",
    "                for n_train_steps in n_train_steps_list:\n",
    "                    elapsed_time_list = []\n",
    "                    log_list = []\n",
    "                    \n",
    "                    for i in range(n_samples):\n",
    "                        print(\n",
    "                            'Запуск: n_jobs = {}, history_length = {},\\n'.format(\n",
    "                                n_jobs, history_length) +\\\n",
    "                            '                  learning_rate_init = {}, n_train_steps = {};\\n'.format(\n",
    "                                learning_rate_init, n_train_steps) +\\\n",
    "                            'сэмпл {} из {}.'.format(\n",
    "                                i + 1, n_samples), flush=True)\n",
    "                        example_wrapper.set_sesion_params(max_step=n_game_steps ,test = False, epsilon=0.01)\n",
    "                        example_wrapper.set_train_agent_params(train_steps=n_sessions, percentile=percentile, goal_score=goal_score, history_length=history_length, verbose=True, parallel=True, n_workers=n_jobs)\n",
    "                        example_wrapper.agent.set_learning_rate(learning_rate_init)\n",
    "                        elapsed_time = time()\n",
    "                        \n",
    "                        log = example_wrapper.train_agent()\n",
    "                        example_wrapper.reset_all_params()\n",
    "                        \n",
    "                        elapsed_time_list.append(time() - elapsed_time)\n",
    "                        \n",
    "                        log_list.append(log)\n",
    "                        \n",
    "                        del log\n",
    "                        \n",
    "                    results = {\n",
    "                               'name': name,\n",
    "                               'goal_score': goal_score,\n",
    "                               'n_jobs': n_jobs,\n",
    "                               'elapsed_time_list': elapsed_time_list,\n",
    "                               'history_length': history_length,\n",
    "                               'learning_rate_init': learning_rate_init,\n",
    "                               'n_train_steps': n_train_steps,\n",
    "                               'log_list': log_list\n",
    "                              }\n",
    "                        \n",
    "                    experiment_data.append(results)\n",
    "                    \n",
    "                    del elapsed_time_list, log_list\n",
    "    return experiment_data"
   ]
  },
  {
   "cell_type": "markdown",
   "metadata": {},
   "source": [
    "Функция-помощник для визуализации эффектов от переиспользования сэмплов:"
   ]
  },
  {
   "cell_type": "code",
   "execution_count": null,
   "metadata": {},
   "outputs": [],
   "source": [
    "def plot_history_length_experiment_results(df_data):\n",
    "    history_length_vals = []\n",
    "    train_step_vals = []\n",
    "    reward_vals = []\n",
    "    mean_threshold_vals = []\n",
    "    \n",
    "    for config in df_data:\n",
    "        for log in config['log_list']:\n",
    "            mean_rewards, reward_thresholds = zip(*log)\n",
    "            mean_rewards, reward_thresholds = list(mean_rewards), list(reward_thresholds)\n",
    "            reward_vals.extend(mean_rewards)\n",
    "            reward_vals.extend(reward_thresholds)\n",
    "            train_steps_num = len(mean_rewards)\n",
    "            train_step_vals.extend(range(train_steps_num))\n",
    "            train_step_vals.extend(range(train_steps_num))\n",
    "            history_length_vals.extend([config['history_length']] * train_steps_num * 2)\n",
    "            mean_threshold_vals.extend(['mean'] * train_steps_num)\n",
    "            mean_threshold_vals.extend(['threshold'] * train_steps_num)\n",
    "    \n",
    "    df = pd.DataFrame({'Переиспользованных шагов': history_length_vals, 'Шаг №': train_step_vals,\n",
    "                       'Награда': reward_vals, 'Вид награды': mean_threshold_vals})\n",
    "    last_steps_count = np.sort(df.loc[:, 'Переиспользованных шагов'].unique())\n",
    "    max_n_colors = last_steps_count.size\n",
    "    palette = dict(zip(last_steps_count, sns.hls_palette(max_n_colors, l=.45, s=.8)))\n",
    "    \n",
    "    sns.set(font_scale=1.35)\n",
    "    g = sns.relplot(x='Шаг №', y='Награда', hue='Переиспользованных шагов', style='Вид награды', kind='line',\n",
    "                    data=df, height=8, aspect=1.5, palette=palette)\n",
    "    g.fig.suptitle('Влияние количества переиспользованных шагов при обучении {}'.format(df_data[0]['name']))\n",
    "    clear_output(True)\n",
    "    plt.show()"
   ]
  },
  {
   "cell_type": "markdown",
   "metadata": {},
   "source": [
    "Функция-помощник для визуализации влияния шага обучения и количества итераций при обучении агента:"
   ]
  },
  {
   "cell_type": "code",
   "execution_count": null,
   "metadata": {},
   "outputs": [],
   "source": [
    "def plot_lrt_experiment_results(df_data):\n",
    "    learning_rate_vals = []\n",
    "    max_train_steps_vals = []\n",
    "    train_step_vals = []\n",
    "    reward_vals = []\n",
    "    mean_threshold_vals = []\n",
    "    \n",
    "    for config in df_data:\n",
    "        for log in config['log_list']:\n",
    "            mean_rewards, reward_thresholds = zip(*log)\n",
    "            mean_rewards, reward_thresholds = list(mean_rewards), list(reward_thresholds)\n",
    "            reward_vals.extend(mean_rewards)\n",
    "            reward_vals.extend(reward_thresholds)\n",
    "            train_steps_num = len(mean_rewards)\n",
    "            train_step_vals.extend(range(train_steps_num))\n",
    "            train_step_vals.extend(range(train_steps_num))\n",
    "            learning_rate_vals.extend([config['learning_rate_init']] * train_steps_num * 2)\n",
    "            max_train_steps_vals.extend([config['n_train_steps']] * train_steps_num * 2)\n",
    "            mean_threshold_vals.extend(['mean'] * train_steps_num)\n",
    "            mean_threshold_vals.extend(['threshold'] * train_steps_num)\n",
    "       \n",
    "    df = pd.DataFrame({'Шаг метода': learning_rate_vals, 'Максимум шагов': max_train_steps_vals,\n",
    "                       'Шаг №': train_step_vals, 'Награда': reward_vals,\n",
    "                       'Вид награды': mean_threshold_vals})\n",
    "    \n",
    "    lr_vals = np.sort(df.loc[:, 'Шаг метода'].unique())\n",
    "    max_n_colors = lr_vals.size\n",
    "    palette = dict(zip(lr_vals, sns.hls_palette(max_n_colors, l=.45, s=.8)))\n",
    "    \n",
    "    sns.set(font_scale=1.35)\n",
    "    g = sns.relplot(x='Шаг №', y='Награда', hue='Шаг метода', style='Вид награды', kind='line',\n",
    "                    row='Максимум шагов', data=df, height=6, aspect=1.8, palette=palette)\n",
    "    g.fig.suptitle('Влияние шага метода и количества итераций на {}'.format(df_data[0]['name']),\n",
    "                   x=0.8, y=1.05)\n",
    "    leg = g._legend\n",
    "    for lr, label in zip(lr_vals, leg.texts[1:]):\n",
    "        label.set_text(\"{:.4f}\".format(lr))\n",
    "    clear_output(True)\n",
    "    plt.show()"
   ]
  },
  {
   "cell_type": "code",
   "execution_count": null,
   "metadata": {},
   "outputs": [],
   "source": [
    "#Сетка параметров для проведения экспериментов:\n",
    "n_jobs_list = < сетка на количество процессов >\n",
    "history_length_list = < сетка на размер истории >\n",
    "learning_rate_init_list = < сетка на шаги метода >\n",
    "n_train_steps_list = < сетка на количество итераций метода >"
   ]
  },
  {
   "cell_type": "code",
   "execution_count": null,
   "metadata": {},
   "outputs": [],
   "source": [
    "#Поиск оптимального количества параллельных легковесных процессов (нитей) на конечной машине:\n",
    "%%time\n",
    "\n",
    "n_jobs_experiment_data = < запуск перебора на сетке с помощью training_experiment >\n",
    "\n",
    "pkl.dump(n_jobs_experiment_data, open('MountainCar-v0_n_jobs_experiment_data.pkl', 'wb'))\n",
    "clear_output(True)"
   ]
  },
  {
   "cell_type": "code",
   "execution_count": null,
   "metadata": {},
   "outputs": [],
   "source": [
    "#Визуализация результатов эксперимента:\n",
    "\n",
    "n_jobs_vals = []\n",
    "elapsed_time_vals = []\n",
    "elapsed_time_vars = []\n",
    "\n",
    "for config in n_jobs_experiment_data:\n",
    "    n_jobs_vals.append(config['n_jobs'])\n",
    "    elapsed_time_vals.append(np.mean(config['elapsed_time_list']))\n",
    "    elapsed_time_vars.append(np.std(config['elapsed_time_list']))\n",
    "\n",
    "df = pd.DataFrame({'Количество нитей': n_jobs_vals, 'Средний ETA, сек.': elapsed_time_vals,\n",
    "                   'Стандартное отклонение ETA': elapsed_time_vars})\n",
    "\n",
    "plt.figure(figsize=(12, 6))\n",
    "sns.set(font_scale=1.35)\n",
    "plt.title('Производительность 5 итераций обучения на {}'.format(n_jobs_experiment_data[0]['name']),\n",
    "          fontsize=16)\n",
    "ax = sns.scatterplot(x='Количество нитей', y='Средний ETA, сек.', size='Стандартное отклонение ETA',\n",
    "                     sizes=(40, 400), data=df)\n",
    "min_val = np.min(elapsed_time_vals)\n",
    "ax.axhline(min_val, color='red', ls='--', linewidth=2, label='{:.2f} сек.'.format(min_val))\n",
    "plt.legend()\n",
    "clear_output(True)\n",
    "plt.show()"
   ]
  },
  {
   "cell_type": "markdown",
   "metadata": {},
   "source": [
    "## Исследование влияния переиспользования сэмплов в процессе обучения"
   ]
  },
  {
   "cell_type": "code",
   "execution_count": null,
   "metadata": {},
   "outputs": [],
   "source": [
    "%%time\n",
    "\n",
    "history_length_experiment_data = < запуск перебора на сетке с помощью training_experiment >\n",
    "\n",
    "pkl.dump(history_length_experiment_data, open('MountainCar-v0_history_length_experiment_data.pkl', 'wb'))\n",
    "clear_output(True)"
   ]
  },
  {
   "cell_type": "code",
   "execution_count": null,
   "metadata": {},
   "outputs": [],
   "source": [
    "#Результаты текущего эксперимента:\n",
    "plot_history_length_experiment_results(history_length_experiment_data)"
   ]
  },
  {
   "cell_type": "markdown",
   "metadata": {},
   "source": [
    "### Поиск оптимального шага обучения для многослойного перцептрона (MLP) вместе c подбором количества шагов обучения:"
   ]
  },
  {
   "cell_type": "code",
   "execution_count": null,
   "metadata": {},
   "outputs": [],
   "source": [
    "%%time\n",
    "\n",
    "lrt_experiment_data = < запуск перебора на сетке с помощью training_experiment >\n",
    "\n",
    "pkl.dump(lrt_experiment_data, open('MountainCar-v0_lrt_experiment_data.pkl', 'wb'))\n",
    "clear_output(True)"
   ]
  },
  {
   "cell_type": "code",
   "execution_count": null,
   "metadata": {},
   "outputs": [],
   "source": [
    "#Результаты текущего эксперимента:\n",
    "plot_lrt_experiment_results(lrt_experiment_data)"
   ]
  },
  {
   "cell_type": "code",
   "execution_count": null,
   "metadata": {},
   "outputs": [],
   "source": [
    "# Обучение агента на задаче MountainCar-v0 с использованием подобранных ранее гиперпараметров:\n",
    "%%time\n",
    "\n",
    "< запуск функции train_agent для обучения агента >"
   ]
  },
  {
   "cell_type": "markdown",
   "metadata": {},
   "source": [
    "### <span style=\"color: green\"> Дополнительное задание 2.3 (Всего 5 баллов, по 1.5 за каждую из сред, 0.5 за реализацию кода) </span>\n",
    "Требуется: \n",
    "\n",
    "Обучить агента в среде с непрерывным пространством действий с помощью `MLPRegressor` на подобие ([ссылка](https://scikit-learn.org/stable/modules/generated/sklearn.neural_network.MLPRegressor.html#sklearn.neural_network.MLPRegressor)). \n",
    "  * Начните с [Pendulum-v1](https://gymnasium.farama.org/environments/classic_control/pendulum/), попробуйте получить среднее вознаграждение **как минимум -300**.\n",
    "  * Поскольку Ваш агент оценивает \"среднее\" действие, полезно добавить небольшой шум для исследования среды.\n",
    "  * Обучить агента в [MountainCarContinuous-v0](https://gymnasium.farama.org/environments/classic_control/mountain_car_continuous/) и в [LunarLanderContinuous-v3](https://gymnasium.farama.org/environments/box2d/lunar_lander/). За достижение награды ниже порогового значения будет начислено меньше баллов. Помните, что дискретные и непрерывные среды могут отличаться не только в пространстве действий. Требования на среднее вознаграждение: **MountainCarContinuous +70** и **LunarLanderContinuous +100**."
   ]
  },
  {
   "cell_type": "markdown",
   "metadata": {},
   "source": [
    "### Обучение в Pendulum-v1"
   ]
  },
  {
   "cell_type": "code",
   "execution_count": null,
   "metadata": {
    "ExecuteTime": {
     "end_time": "2024-03-12T11:12:49.842754Z",
     "start_time": "2024-03-12T11:12:49.836339Z"
    }
   },
   "outputs": [],
   "source": [
    "# инициализация агента и среды обучения\n",
    "_env = gym.make(\"Pendulum-v1\", render_mode=\"rgb_array\").env\n",
    "n_actions = _env.action_space.n\n",
    "state_dim = _env.observation_space.shape[0]\n",
    "\n",
    "gym_name = GYMAgentWrapper() # можно менять архитектуру нейронной сети и гиперпараметры обучения\n",
    "logger_ = logger.get_logger('pendulum-v1', './logs')\n",
    "gym_name.set_sesion_params()\n",
    "gym_name.set_train_agent_params(goal_score=-300) # можно менять гиперпраметры кросс-энтропийного метода, goal_score не трогать\n",
    "\n",
    "gym_name_result = gym_name.train_agent()\n",
    "\n",
    "logger.log_func(logger_, gym_name_result)"
   ]
  },
  {
   "cell_type": "code",
   "execution_count": null,
   "metadata": {},
   "outputs": [],
   "source": [
    "# детерминированная политика\n",
    "# сохранение видео\n",
    "folder_pth = Path(\"./videos/Pendulum-v1/determ_poliсy\")\n",
    "gym_name.set_sesion_params(test=True)\n",
    "gym_name.record_wideo(folder_pth, 10)\n",
    "\n",
    "# демонстрация видео\n",
    "video_paths = sorted([s for s in folder_pth.iterdir() if s.suffix == \".mp4\"])\n",
    "video_path = video_paths[-1]\n",
    "data_url = str(video_path)\n",
    "\n",
    "HTML(\n",
    "    \"\"\"\n",
    "<video width=\"640\" height=\"480\" controls>\n",
    "  <source src=\"{}\" type=\"video/mp4\">\n",
    "</video>\n",
    "\"\"\".format(\n",
    "        data_url\n",
    "    )\n",
    ")"
   ]
  },
  {
   "cell_type": "code",
   "execution_count": null,
   "metadata": {},
   "outputs": [],
   "source": [
    "# стохастическая политика\n",
    "# сохранение видео\n",
    "folder_pth = Path(\"./videos/Pendulum-v1/stoch_poliсy\")\n",
    "gym_name.set_sesion_params(test=False)\n",
    "gym_name.record_wideo(folder_pth, 10)\n",
    "\n",
    "# демонстрация видео\n",
    "video_paths = sorted([s for s in folder_pth.iterdir() if s.suffix == \".mp4\"])\n",
    "video_path = video_paths[-1]\n",
    "data_url = str(video_path)\n",
    "\n",
    "HTML(\n",
    "    \"\"\"\n",
    "<video width=\"640\" height=\"480\" controls>\n",
    "  <source src=\"{}\" type=\"video/mp4\">\n",
    "</video>\n",
    "\"\"\".format(\n",
    "        data_url\n",
    "    )\n",
    ")"
   ]
  },
  {
   "cell_type": "markdown",
   "metadata": {},
   "source": [
    "### Обучение в MountainCarContinuous-v0"
   ]
  },
  {
   "cell_type": "code",
   "execution_count": null,
   "metadata": {},
   "outputs": [],
   "source": [
    "# инициализация агента и среды обучения\n",
    "_env = gym.make(\"MountainCarContinuous-v0\", render_mode=\"rgb_array\").env\n",
    "n_actions = _env.action_space.n\n",
    "state_dim = _env.observation_space.shape[0]\n",
    "\n",
    "gym_name = GYMAgentWrapper() # можно менять архитектуру нейронной сети и гиперпараметры обучения\n",
    "logger_ = logger.get_logger('mountaincarcontinuous-v0', './logs')\n",
    "gym_name.set_sesion_params()\n",
    "gym_name.set_train_agent_params(goal_score=70) # можно менять гиперпраметры кросс-энтропийного метода, goal_score не трогать\n",
    "\n",
    "gym_name_result = gym_name.train_agent()\n",
    "\n",
    "logger.log_func(logger_, gym_name_result)"
   ]
  },
  {
   "cell_type": "code",
   "execution_count": null,
   "metadata": {},
   "outputs": [],
   "source": [
    "# детерминированная политика\n",
    "# сохранение видео\n",
    "folder_pth = Path(\"./videos/MountainCarContinuous-v0/determ_poliсy\")\n",
    "gym_name.set_sesion_params(test=True)\n",
    "gym_name.record_wideo(folder_pth, 10)\n",
    "\n",
    "# демонстрация видео\n",
    "video_paths = sorted([s for s in folder_pth.iterdir() if s.suffix == \".mp4\"])\n",
    "video_path = video_paths[-1]\n",
    "data_url = str(video_path)\n",
    "\n",
    "HTML(\n",
    "    \"\"\"\n",
    "<video width=\"640\" height=\"480\" controls>\n",
    "  <source src=\"{}\" type=\"video/mp4\">\n",
    "</video>\n",
    "\"\"\".format(\n",
    "        data_url\n",
    "    )\n",
    ")"
   ]
  },
  {
   "cell_type": "code",
   "execution_count": null,
   "metadata": {},
   "outputs": [],
   "source": [
    "# стохастическая политика\n",
    "# сохранение видео\n",
    "folder_pth = Path(\"./videos/MountainCarContinuous-v0/stoch_poliсy\")\n",
    "gym_name.set_sesion_params(test=False)\n",
    "gym_name.record_wideo(folder_pth, 10)\n",
    "\n",
    "# демонстрация видео\n",
    "video_paths = sorted([s for s in folder_pth.iterdir() if s.suffix == \".mp4\"])\n",
    "video_path = video_paths[-1]\n",
    "data_url = str(video_path)\n",
    "\n",
    "HTML(\n",
    "    \"\"\"\n",
    "<video width=\"640\" height=\"480\" controls>\n",
    "  <source src=\"{}\" type=\"video/mp4\">\n",
    "</video>\n",
    "\"\"\".format(\n",
    "        data_url\n",
    "    )\n",
    ")"
   ]
  },
  {
   "cell_type": "markdown",
   "metadata": {},
   "source": [
    "### Обучение в LunarLanderContinuous-v3"
   ]
  },
  {
   "cell_type": "code",
   "execution_count": null,
   "metadata": {},
   "outputs": [],
   "source": [
    "# инициализация агента и среды обучения\n",
    "_env = gym.make(\"LunarLander-v3\", continuous = True, gravity = -10.0, enable_wind = True, wind_power = 2.0, turbulence_power = 1.5, render_mode = \"rgb_array\").env\n",
    "n_actions = _env.action_space.shape[0]\n",
    "state_dim = _env.observation_space.shape[0]\n",
    "\n",
    "gym_name = GYMAgentWrapper(_env, MLPRegressorModel(model=MLPBaseModel(input_dim=state_dim, output_dim=n_actions, inner_dims=[3, 9, 9, 3])), show_progress) # можно менять архитектуру нейронной сети и гиперпараметры обучения\n",
    "logger_ = logger.get_logger('lunarlandercontinuous-v3', './logs')\n",
    "gym_name.set_sesion_params()\n",
    "gym_name.set_train_agent_params(goal_score=100) # можно менять гиперпраметры кросс-энтропийного метода, goal_score не трогать\n",
    "gym_name.agent.set_normalization_params(mountin_car.gym_env.observation_space)\n",
    "\n",
    "gym_name_result = gym_name.train_agent()\n",
    "\n",
    "logger.log_func(logger_, gym_name_result)"
   ]
  },
  {
   "cell_type": "code",
   "execution_count": null,
   "metadata": {},
   "outputs": [],
   "source": [
    "# детерминированная политика\n",
    "# сохранение видео\n",
    "folder_pth = Path(\"./videos/LunarLanderContinuous-v3/determ_poliсy\")\n",
    "gym_name.set_sesion_params(test=True)\n",
    "gym_name.record_wideo(folder_pth, 10)\n",
    "\n",
    "# демонстрация видео\n",
    "video_paths = sorted([s for s in folder_pth.iterdir() if s.suffix == \".mp4\"])\n",
    "video_path = video_paths[-1]\n",
    "data_url = str(video_path)\n",
    "\n",
    "HTML(\n",
    "    \"\"\"\n",
    "<video width=\"640\" height=\"480\" controls>\n",
    "  <source src=\"{}\" type=\"video/mp4\">\n",
    "</video>\n",
    "\"\"\".format(\n",
    "        data_url\n",
    "    )\n",
    ")"
   ]
  },
  {
   "cell_type": "code",
   "execution_count": null,
   "metadata": {},
   "outputs": [],
   "source": [
    "# стохастическая политика\n",
    "# сохранение видео\n",
    "folder_pth = Path(\"./videos/LunarLanderContinuous-v3/stoch_poliсy\")\n",
    "gym_name.set_sesion_params(test=False)\n",
    "gym_name.record_wideo(folder_pth, 10)\n",
    "\n",
    "# демонстрация видео\n",
    "video_paths = sorted([s for s in folder_pth.iterdir() if s.suffix == \".mp4\"])\n",
    "video_path = video_paths[-1]\n",
    "data_url = str(video_path)\n",
    "\n",
    "HTML(\n",
    "    \"\"\"\n",
    "<video width=\"640\" height=\"480\" controls>\n",
    "  <source src=\"{}\" type=\"video/mp4\">\n",
    "</video>\n",
    "\"\"\".format(\n",
    "        data_url\n",
    "    )\n",
    ")"
   ]
  },
  {
   "cell_type": "code",
   "execution_count": null,
   "metadata": {},
   "outputs": [],
   "source": []
  }
 ],
 "metadata": {
  "kernelspec": {
   "display_name": "usr",
   "language": "python",
   "name": "python3"
  },
  "language_info": {
   "codemirror_mode": {
    "name": "ipython",
    "version": 3
   },
   "file_extension": ".py",
   "mimetype": "text/x-python",
   "name": "python",
   "nbconvert_exporter": "python",
   "pygments_lexer": "ipython3",
   "version": "3.10.12"
  }
 },
 "nbformat": 4,
 "nbformat_minor": 1
}
